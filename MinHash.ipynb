{
 "cells": [
  {
   "cell_type": "code",
   "execution_count": 47,
   "id": "afe94871",
   "metadata": {},
   "outputs": [],
   "source": [
    "import numpy as np\n",
    "import hashlib"
   ]
  },
  {
   "cell_type": "markdown",
   "id": "6e4f5bf9",
   "metadata": {},
   "source": [
    "Name A: \n",
    "\n",
    "Name B: "
   ]
  },
  {
   "cell_type": "code",
   "execution_count": 48,
   "id": "42d4a72d",
   "metadata": {},
   "outputs": [],
   "source": [
    "#Four (4) 'relevant' TDT4305 sentences\n",
    "\n",
    "Sentence_1 = \"The Big Data platform for students is Blackboard\"\n",
    "Sentence_2 = \"Questions on MinHash project by NTNU students is on Piazza\"\n",
    "Sentence_3 = \"NTNU Big Data platform are Blackboard and Piazza\"\n",
    "Sentence_4 = \"The project data for students are on Blackboard not Piazza\""
   ]
  },
  {
   "cell_type": "code",
   "execution_count": 49,
   "id": "f619be36",
   "metadata": {},
   "outputs": [],
   "source": [
    "\n",
    "k_shingles =    [[\"big\", \"data\", \"platform\", \"students\", \"blackboard\"],\n",
    "                 [\"questions\", \"minhash\", \"project\", \"ntnu\", \"students\", \"piazza\"],\n",
    "                 [\"ntnu\", \"big\", \"data\", \"platform\", \"blackboard\", \"piazza\"],\n",
    "                 [\"project\", \"data\", \"students\", \"blackboard\", \"piazza\"],\n",
    "                ]\n",
    "\n",
    "\n",
    "unique_words = sorted(['big', 'data', 'platform', 'students', 'blackboard', 'questions', 'minhash', 'project', 'ntnu', 'piazza']) # Enter the unique words list here"
   ]
  },
  {
   "cell_type": "code",
   "execution_count": 50,
   "id": "e633fa9c",
   "metadata": {},
   "outputs": [
    {
     "name": "stdout",
     "output_type": "stream",
     "text": [
      "Format: ['word', 'word', 'word' ...] & watch out for white spaces before comma\n",
      "Incorrect! Try again.\n"
     ]
    }
   ],
   "source": [
    "# User input\n",
    "\n",
    "print(f\"Format: ['word', 'word', 'word' ...] & watch out for white spaces before comma\")\n",
    "user_input = str(input(\"Enter your created list of unique words: \")) \n",
    "\n",
    "f = open(\"encrypted_dictionary.txt\", \"r\")\n",
    "encrypted_words = f.read()\n",
    "\n",
    "\n",
    "# Hash the user input\n",
    "hashed_user_input = hashlib.sha256(user_input.encode()).hexdigest()\n",
    "\n",
    "# Compare with the stored hash\n",
    "if hashed_user_input == encrypted_words:\n",
    "    print(\"Correct! Your dictionary matched!\")\n",
    "else:\n",
    "    print(\"Incorrect! Try again.\")"
   ]
  },
  {
   "cell_type": "code",
   "execution_count": 51,
   "id": "0b10d096",
   "metadata": {},
   "outputs": [],
   "source": [
    "\n",
    "\n",
    "Input_Matrix = np.empty([10, 4]) # Create an empty array of input matrix"
   ]
  },
  {
   "cell_type": "code",
   "execution_count": 52,
   "id": "8b7267f5",
   "metadata": {},
   "outputs": [
    {
     "name": "stdout",
     "output_type": "stream",
     "text": [
      "[1. 0. 1. 0.]\n",
      "[1. 0. 1. 1.]\n",
      "[1. 0. 1. 1.]\n",
      "[0. 1. 0. 0.]\n",
      "[0. 1. 1. 0.]\n",
      "[0. 1. 1. 1.]\n",
      "[1. 0. 1. 0.]\n",
      "[0. 1. 0. 1.]\n",
      "[0. 1. 0. 0.]\n",
      "[1. 1. 0. 1.]\n"
     ]
    }
   ],
   "source": [
    "## Compute the values for the input matrix here ##\n",
    "\n",
    "def hash(x,length,s1,s2): \n",
    "    return (s1*x+s2)%(length+1)\n",
    "\n",
    "for i, word in enumerate(unique_words):\n",
    "    for j, k_shingle in enumerate(k_shingles):\n",
    "        if word in k_shingle:\n",
    "            Input_Matrix[i][j] = 1\n",
    "        else:\n",
    "            Input_Matrix[i][j] = 0\n",
    "\n",
    "for i in range(len(Input_Matrix)):\n",
    "    print(Input_Matrix[i])"
   ]
  },
  {
   "cell_type": "code",
   "execution_count": 53,
   "id": "acf3c3dd",
   "metadata": {},
   "outputs": [],
   "source": [
    "Sig_M = np.full((3, 4), np.inf) # Create a MinHash signature matrix array with inf values"
   ]
  },
  {
   "cell_type": "code",
   "execution_count": 54,
   "id": "145bfafc",
   "metadata": {},
   "outputs": [
    {
     "name": "stdout",
     "output_type": "stream",
     "text": [
      "0 0 10 1 3 3\n",
      "0 0 10 7 1 1\n",
      "0 0 10 7 2 2\n",
      "0 2 10 1 3 3\n",
      "0 2 10 7 1 1\n",
      "0 2 10 7 2 2\n",
      "1 0 10 1 3 4\n",
      "1 0 10 7 1 8\n",
      "1 0 10 7 2 9\n",
      "1 2 10 1 3 4\n",
      "1 2 10 7 1 8\n",
      "1 2 10 7 2 9\n",
      "1 3 10 1 3 4\n",
      "1 3 10 7 1 8\n",
      "1 3 10 7 2 9\n",
      "2 0 10 1 3 5\n",
      "2 0 10 7 1 4\n",
      "2 0 10 7 2 5\n",
      "2 2 10 1 3 5\n",
      "2 2 10 7 1 4\n",
      "2 2 10 7 2 5\n",
      "2 3 10 1 3 5\n",
      "2 3 10 7 1 4\n",
      "2 3 10 7 2 5\n",
      "3 1 10 1 3 6\n",
      "3 1 10 7 1 0\n",
      "3 1 10 7 2 1\n",
      "4 1 10 1 3 7\n",
      "4 1 10 7 1 7\n",
      "4 1 10 7 2 8\n",
      "4 2 10 1 3 7\n",
      "4 2 10 7 1 7\n",
      "4 2 10 7 2 8\n",
      "5 1 10 1 3 8\n",
      "5 1 10 7 1 3\n",
      "5 1 10 7 2 4\n",
      "5 2 10 1 3 8\n",
      "5 2 10 7 1 3\n",
      "5 2 10 7 2 4\n",
      "5 3 10 1 3 8\n",
      "5 3 10 7 1 3\n",
      "5 3 10 7 2 4\n",
      "6 0 10 1 3 9\n",
      "6 0 10 7 1 10\n",
      "6 0 10 7 2 0\n",
      "6 2 10 1 3 9\n",
      "6 2 10 7 1 10\n",
      "6 2 10 7 2 0\n",
      "7 1 10 1 3 10\n",
      "7 1 10 7 1 6\n",
      "7 1 10 7 2 7\n",
      "7 3 10 1 3 10\n",
      "7 3 10 7 1 6\n",
      "7 3 10 7 2 7\n",
      "8 1 10 1 3 0\n",
      "8 1 10 7 1 2\n",
      "8 1 10 7 2 3\n",
      "9 0 10 1 3 1\n",
      "9 0 10 7 1 9\n",
      "9 0 10 7 2 10\n",
      "9 1 10 1 3 1\n",
      "9 1 10 7 1 9\n",
      "9 1 10 7 2 10\n",
      "9 3 10 1 3 1\n",
      "9 3 10 7 1 9\n",
      "9 3 10 7 2 10\n"
     ]
    }
   ],
   "source": [
    "# Generate hash functions\n",
    "hash_seeds=[[1,3],[7,1],[7,2]]\n",
    "\n",
    "def minhash(matrix, num_hashes):\n",
    "    num_rows, num_cols = matrix.shape\n",
    "    minhash_matrix = np.full((num_hashes, num_cols), np.inf)\n",
    "\n",
    "    for r in range(num_rows):\n",
    "        for c in range(num_cols):\n",
    "            if matrix[r][c] == 1:\n",
    "                for i in range(num_hashes):\n",
    "                    hash_val = hash(r, num_rows, hash_seeds[i][0], hash_seeds[i][1])\n",
    "                    if hash_val < minhash_matrix[i][c]:\n",
    "                        minhash_matrix[i][c] = hash_val\n",
    "\n",
    "    return minhash_matrix\n",
    "\n",
    "def hash(x,length,s1,s2):\n",
    "    return (s1*x+s2)%(length+1)\n",
    "\n",
    "# Example usage:\n",
    "\n",
    "num_hashes = len(hash_seeds)\n",
    "minhash_matrix = minhash(np.array(Input_Matrix), num_hashes)"
   ]
  },
  {
   "cell_type": "code",
   "execution_count": 55,
   "id": "3f799a86",
   "metadata": {},
   "outputs": [],
   "source": [
    "hash_1 = list(minhash_matrix[0])"
   ]
  },
  {
   "cell_type": "code",
   "execution_count": 56,
   "id": "0f0195cc",
   "metadata": {},
   "outputs": [],
   "source": [
    "hash_2 = list(minhash_matrix[1])"
   ]
  },
  {
   "cell_type": "code",
   "execution_count": 57,
   "id": "4a3c8256",
   "metadata": {},
   "outputs": [],
   "source": [
    "hash_3 = list(minhash_matrix[2])"
   ]
  },
  {
   "cell_type": "code",
   "execution_count": 58,
   "id": "e854ba69",
   "metadata": {},
   "outputs": [],
   "source": [
    "hash_list = [hash_1, hash_2, hash_3]"
   ]
  },
  {
   "cell_type": "code",
   "execution_count": 59,
   "id": "06ed6049",
   "metadata": {},
   "outputs": [
    {
     "data": {
      "text/plain": [
       "[[1.0, 0.0, 3.0, 1.0], [1.0, 0.0, 1.0, 3.0], [0.0, 1.0, 0.0, 4.0]]"
      ]
     },
     "execution_count": 59,
     "metadata": {},
     "output_type": "execute_result"
    }
   ],
   "source": [
    "hash_list"
   ]
  },
  {
   "cell_type": "code",
   "execution_count": 60,
   "id": "a6218bf7",
   "metadata": {},
   "outputs": [],
   "source": [
    "## Using the hash functions and the input matrix compute the MinHash signature matrix here ##\n",
    "Sig_M=minhash_matrix"
   ]
  },
  {
   "cell_type": "code",
   "execution_count": 61,
   "id": "56c9d088",
   "metadata": {},
   "outputs": [
    {
     "data": {
      "text/plain": [
       "array([[1., 0., 3., 1.],\n",
       "       [1., 0., 1., 3.],\n",
       "       [0., 1., 0., 4.]])"
      ]
     },
     "execution_count": 61,
     "metadata": {},
     "output_type": "execute_result"
    }
   ],
   "source": [
    "# print the updated MinHash signature matrix\n",
    "\n",
    "Sig_M"
   ]
  }
 ],
 "metadata": {
  "kernelspec": {
   "display_name": "Python 3 (ipykernel)",
   "language": "python",
   "name": "python3"
  },
  "language_info": {
   "codemirror_mode": {
    "name": "ipython",
    "version": 3
   },
   "file_extension": ".py",
   "mimetype": "text/x-python",
   "name": "python",
   "nbconvert_exporter": "python",
   "pygments_lexer": "ipython3",
   "version": "3.11.3"
  }
 },
 "nbformat": 4,
 "nbformat_minor": 5
}
